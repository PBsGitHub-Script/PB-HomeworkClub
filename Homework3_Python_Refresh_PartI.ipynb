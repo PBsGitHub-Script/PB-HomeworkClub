{
 "cells": [
  {
   "cell_type": "markdown",
   "id": "concerned-master",
   "metadata": {},
   "source": [
    "# Homework 3 - Python Refresh"
   ]
  },
  {
   "cell_type": "markdown",
   "id": "worse-wilson",
   "metadata": {},
   "source": [
    "#In this homework we will review the basic principles of python programming. You will work through a few questions and build some scripts. You will need the Bloom et al Dataset found in this repository. "
   ]
  },
  {
   "cell_type": "markdown",
   "id": "martial-tackle",
   "metadata": {},
   "source": [
    "## Part I: Questions"
   ]
  },
  {
   "cell_type": "markdown",
   "id": "following-merchant",
   "metadata": {},
   "source": [
    "### 1.Name one of the basic building blocks of programming and a small definition.\n",
    "\n",
    "Ans: One of the baisc building blocks of programming is expressions. They are a combination of an operator \n",
    "and it's operand/s. For example: a+b/c, where + and / are operators and a, b, c are operands. "
   ]
  },
  {
   "cell_type": "markdown",
   "id": "extended-cleaner",
   "metadata": {},
   "source": [
    "### 2. Match the data type to the appropriate data \n",
    "\n",
    "string ---> ‘I am a programmer’  \n",
    "\n",
    "integer ---> 123 \n",
    "\n",
    "boolean ---> True \n",
    "\n",
    "floating point ---> 34.63221"
   ]
  },
  {
   "cell_type": "markdown",
   "id": "labeled-bobby",
   "metadata": {},
   "source": [
    "### 3. What would I get if I did tried to add these to numbers together 123 and 5."
   ]
  },
  {
   "cell_type": "markdown",
   "id": "resistant-allocation",
   "metadata": {},
   "source": [
    "#### a) if the numbers were formatted as strings"
   ]
  },
  {
   "cell_type": "code",
   "execution_count": 26,
   "id": "unusual-abraham",
   "metadata": {},
   "outputs": [
    {
     "data": {
      "text/plain": [
       "128"
      ]
     },
     "execution_count": 26,
     "metadata": {},
     "output_type": "execute_result"
    }
   ],
   "source": [
    "a = 123\n",
    "b = 5\n",
    "a + b "
   ]
  },
  {
   "cell_type": "markdown",
   "id": "assumed-accommodation",
   "metadata": {},
   "source": [
    "#### b) if they were formatted as integers"
   ]
  },
  {
   "cell_type": "code",
   "execution_count": 27,
   "id": "empirical-covering",
   "metadata": {},
   "outputs": [
    {
     "data": {
      "text/plain": [
       "'1235'"
      ]
     },
     "execution_count": 27,
     "metadata": {},
     "output_type": "execute_result"
    }
   ],
   "source": [
    "a = '123'\n",
    "b = '5'\n",
    "a + b "
   ]
  },
  {
   "cell_type": "markdown",
   "id": "secondary-marble",
   "metadata": {},
   "source": [
    "### 4. Lists are one dimensional arrays and are a series of items also called vectors. From the following list what would the question apple_list[3] return? Remember we refer to items in a list by their position. Hint – remember how computers count."
   ]
  },
  {
   "cell_type": "markdown",
   "id": "accepting-tiger",
   "metadata": {},
   "source": [
    "```apple_list=[‘banana’,’pear’,’kumquat’,’pomegranate’,’passion fruit’]```"
   ]
  },
  {
   "cell_type": "code",
   "execution_count": 30,
   "id": "regulation-graphics",
   "metadata": {},
   "outputs": [
    {
     "data": {
      "text/plain": [
       "'pomegranate'"
      ]
     },
     "execution_count": 30,
     "metadata": {},
     "output_type": "execute_result"
    }
   ],
   "source": [
    "apple_list[3]"
   ]
  },
  {
   "cell_type": "markdown",
   "id": "meaning-coaching",
   "metadata": {},
   "source": [
    "### 5. Name a difference between lists and dictionaries?"
   ]
  },
  {
   "cell_type": "markdown",
   "id": "tested-highway",
   "metadata": {},
   "source": [
    "Ans: One dimensional array is called a list (vector)  while Dictionary is an associative array (hash or map)."
   ]
  },
  {
   "cell_type": "markdown",
   "id": "addressed-excitement",
   "metadata": {},
   "source": [
    "### 6. What would you get from this question from the following dictionary: "
   ]
  },
  {
   "cell_type": "code",
   "execution_count": 33,
   "id": "fatty-mainland",
   "metadata": {},
   "outputs": [
    {
     "data": {
      "text/plain": [
       "3"
      ]
     },
     "execution_count": 33,
     "metadata": {},
     "output_type": "execute_result"
    }
   ],
   "source": [
    "fruit_dict ={}\n",
    "fruit_dict['apple']=10\n",
    "fruit_dict['pear'] = 3\n",
    "fruit_dict['walnut']=216\n",
    "\n",
    "fruit_dict['pear']"
   ]
  },
  {
   "cell_type": "markdown",
   "id": "sophisticated-decimal",
   "metadata": {},
   "source": [
    "### 7. In python what does the function .replace( ) do?"
   ]
  },
  {
   "cell_type": "markdown",
   "id": "fifth-welding",
   "metadata": {},
   "source": [
    "Ans: The function .replace( ) replaces the old substring with the new substring. For Example: "
   ]
  },
  {
   "cell_type": "code",
   "execution_count": 14,
   "id": "burning-belfast",
   "metadata": {},
   "outputs": [
    {
     "name": "stdout",
     "output_type": "stream",
     "text": [
      "What a night!\n"
     ]
    }
   ],
   "source": [
    "A=\"What a morning!\"\n",
    "print(A.replace(\"morning\", \"night\"))"
   ]
  },
  {
   "cell_type": "markdown",
   "id": "nasty-newspaper",
   "metadata": {},
   "source": [
    "### 8. How do you print something in python?  For example write a print statement to print “hello world!”"
   ]
  },
  {
   "cell_type": "markdown",
   "id": "understood-cleanup",
   "metadata": {},
   "source": [
    "Ans: Using the print( ) function."
   ]
  },
  {
   "cell_type": "code",
   "execution_count": 15,
   "id": "coordinate-society",
   "metadata": {},
   "outputs": [
    {
     "name": "stdout",
     "output_type": "stream",
     "text": [
      "hello world!\n"
     ]
    }
   ],
   "source": [
    "#For example:\n",
    "print('hello world!')"
   ]
  },
  {
   "cell_type": "markdown",
   "id": "secure-wages",
   "metadata": {},
   "source": [
    "### 9. Name one place you can go to get help with python?"
   ]
  },
  {
   "cell_type": "code",
   "execution_count": null,
   "id": "running-milwaukee",
   "metadata": {
    "scrolled": true
   },
   "outputs": [
    {
     "name": "stdout",
     "output_type": "stream",
     "text": [
      "\n",
      "Welcome to Python 3.9's help utility!\n",
      "\n",
      "If this is your first time using Python, you should definitely check out\n",
      "the tutorial on the Internet at https://docs.python.org/3.9/tutorial/.\n",
      "\n",
      "Enter the name of any module, keyword, or topic to get help on writing\n",
      "Python programs and using Python modules.  To quit this help utility and\n",
      "return to the interpreter, just type \"quit\".\n",
      "\n",
      "To get a list of available modules, keywords, symbols, or topics, type\n",
      "\"modules\", \"keywords\", \"symbols\", or \"topics\".  Each module also comes\n",
      "with a one-line summary of what it does; to list the modules whose name\n",
      "or summary contain a given string such as \"spam\", type \"modules spam\".\n",
      "\n"
     ]
    }
   ],
   "source": [
    "Ans: help()"
   ]
  },
  {
   "cell_type": "markdown",
   "id": "informative-mobile",
   "metadata": {},
   "source": [
    "#### Also, we can go to python stackoverflow to get help with python."
   ]
  },
  {
   "cell_type": "markdown",
   "id": "ecological-carter",
   "metadata": {},
   "source": [
    "### 10. What is an ```if``` statement and when would you use one?"
   ]
  },
  {
   "cell_type": "markdown",
   "id": "several-diana",
   "metadata": {},
   "source": [
    "Ans: An if statement is control flow statements which run a particular code only when a certain condition is satisfied. For example: you would use this control flow statement when you want to print something only when a condition is true. "
   ]
  },
  {
   "cell_type": "code",
   "execution_count": 7,
   "id": "cleared-hollow",
   "metadata": {},
   "outputs": [
    {
     "name": "stdout",
     "output_type": "stream",
     "text": [
      "num is less than 200\n"
     ]
    }
   ],
   "source": [
    "#Example\n",
    "num = 10\n",
    "if num < 20:\n",
    "    print(\"num is less than 200\")"
   ]
  },
  {
   "cell_type": "markdown",
   "id": "present-genealogy",
   "metadata": {},
   "source": [
    "### 11.\tFrom this list:  ```container_list = [‘can’,’jar’,’hat’]``` What would be returned from this: ```container_list[0:2]```.  Hint: Remember one number is inclusive and one exclusive."
   ]
  },
  {
   "cell_type": "code",
   "execution_count": 8,
   "id": "gothic-sport",
   "metadata": {},
   "outputs": [
    {
     "data": {
      "text/plain": [
       "['can', 'jar']"
      ]
     },
     "execution_count": 8,
     "metadata": {},
     "output_type": "execute_result"
    }
   ],
   "source": [
    "#Ans:\n",
    "container_list = ['can', 'jar', 'hat']\n",
    "container_list [0:2]"
   ]
  },
  {
   "cell_type": "markdown",
   "id": "assigned-authorization",
   "metadata": {},
   "source": [
    "### 12.\tWhat is the difference between an ```if``` statement and a ```while``` loop?"
   ]
  },
  {
   "cell_type": "markdown",
   "id": "dutch-tournament",
   "metadata": {},
   "source": [
    "Ans: An if statement checks if the expression is true or false, and executes the code inside the statement only if it is true,\n",
    "whereas while loop continues to execute the code inside the while statemnet for as many times as it needs until the expression is true or until that expression is false. "
   ]
  },
  {
   "cell_type": "code",
   "execution_count": null,
   "id": "blocked-operator",
   "metadata": {},
   "outputs": [],
   "source": [
    "#Example\n",
    "i = 1\n",
    "if i <10:\n",
    "    print (\"i is good to use\") #prints 'i is good to use' just once\n",
    "    \n",
    "i <=20\n",
    "while i<20:\n",
    "    print (\"i is the best number\") #keeps printing 'i is the best number' as long as i is less than 20. "
   ]
  },
  {
   "cell_type": "markdown",
   "id": "transparent-handle",
   "metadata": {},
   "source": [
    "### 13. What would you get with the command fruit_dict.keys() after entering this dictionary:\n",
    "fruit_dict = {}\n",
    "\n",
    "fruit_dict[‘apple’]=10\n",
    "\n",
    "fruit_dict[‘pear’] = 3\n",
    "\n",
    "fruit_dict[‘walnut’]=216"
   ]
  },
  {
   "cell_type": "code",
   "execution_count": 1,
   "id": "completed-exchange",
   "metadata": {},
   "outputs": [
    {
     "data": {
      "text/plain": [
       "dict_keys(['apple', 'pear', 'walnut'])"
      ]
     },
     "execution_count": 1,
     "metadata": {},
     "output_type": "execute_result"
    }
   ],
   "source": [
    "fruit_dict = {}\n",
    "\n",
    "fruit_dict['apple']=10\n",
    "\n",
    "fruit_dict['pear'] = 3\n",
    "\n",
    "fruit_dict['walnut']=216\n",
    "\n",
    "fruit_dict.keys()"
   ]
  },
  {
   "cell_type": "markdown",
   "id": "finished-strength",
   "metadata": {},
   "source": [
    "### 14. In this statement: InFileName = open(InFileName, ‘r’) what does the ‘r’ indicate ?"
   ]
  },
  {
   "cell_type": "markdown",
   "id": "intellectual-asset",
   "metadata": {},
   "source": [
    "Ans: 'r' inciadets reading "
   ]
  },
  {
   "cell_type": "code",
   "execution_count": null,
   "id": "bibliographic-variance",
   "metadata": {},
   "outputs": [],
   "source": [
    "#Example\n",
    "\n",
    "f = open(\"demofile.txt\", \"r\") #where r is reading the whole content of the file 'demofile.txt' \n",
    "print(f.read())\n",
    "\n",
    "f = open(\"demofile.txt\", \"r\") #where r is reading one line (first line) of the file 'demofile.txt'\n",
    "print(f.readline()) \n",
    "\n",
    "f = open(\"demofile.txt\", \"r\") #return the 5 first characters of the file 'demofile.txt'\n",
    "print(f.read(5))\n",
    "\n",
    "f = open(\"demofile.txt\", \"r\") #read the whole file line by line by looping through the lines of the file 'demofile.txt'\n",
    "for x in f:\n",
    "  print(x) "
   ]
  },
  {
   "cell_type": "markdown",
   "id": "interpreted-economics",
   "metadata": {},
   "source": [
    "### 15. What does this command do? Line.strip(‘\\n’) why would you use it when printing out lines to the screen?"
   ]
  },
  {
   "cell_type": "markdown",
   "id": "opposite-origin",
   "metadata": {},
   "source": [
    "Ans: Line.strip('\\n') strips the newline or line ending or end of line or line break. It is used to remove unnecessary whitespaces and line breaks."
   ]
  },
  {
   "cell_type": "code",
   "execution_count": 21,
   "id": "black-locator",
   "metadata": {},
   "outputs": [
    {
     "name": "stdout",
     "output_type": "stream",
     "text": [
      " Hello everyone \n",
      " \n"
     ]
    }
   ],
   "source": [
    "#Example\n",
    "\n",
    "a = ' Hello everyone \\n '\n",
    "a.strip('\\n') #you can also use a.strip() instead a.strip('\\n')\n",
    "print(a)"
   ]
  },
  {
   "cell_type": "markdown",
   "id": "unknown-transparency",
   "metadata": {},
   "source": [
    "### 16. How would you split a line from a csv file into a list?"
   ]
  },
  {
   "cell_type": "code",
   "execution_count": 36,
   "id": "hearing-blink",
   "metadata": {
    "scrolled": true
   },
   "outputs": [
    {
     "name": "stdout",
     "output_type": "stream",
     "text": [
      "apple.1,ball.2,cat.3 \n",
      "\n",
      "['apple.1', 'ball.2', 'cat.3']\n"
     ]
    }
   ],
   "source": [
    "#Ans: Say your CSV file is PB.csv which conatains: \n",
    "\n",
    "CSV_First_line = \"apple.1,ball.2,cat.3 \\n\"\n",
    "print (CSV_First_line)\n",
    "\n",
    "split_list = CSV_First_line.strip().split(',')\n",
    "print(split_list)"
   ]
  }
 ],
 "metadata": {
  "kernelspec": {
   "display_name": "Python 3",
   "language": "python",
   "name": "python3"
  },
  "language_info": {
   "codemirror_mode": {
    "name": "ipython",
    "version": 3
   },
   "file_extension": ".py",
   "mimetype": "text/x-python",
   "name": "python",
   "nbconvert_exporter": "python",
   "pygments_lexer": "ipython3",
   "version": "3.9.1"
  }
 },
 "nbformat": 4,
 "nbformat_minor": 5
}
